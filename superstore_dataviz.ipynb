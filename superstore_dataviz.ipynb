{
  "nbformat": 4,
  "nbformat_minor": 0,
  "metadata": {
    "colab": {
      "name": "superstore-dataviz.ipynb",
      "provenance": [],
      "authorship_tag": "ABX9TyN2rBGjizkbN5YYpc0RrC/B",
      "include_colab_link": true
    },
    "kernelspec": {
      "name": "python3",
      "display_name": "Python 3"
    },
    "language_info": {
      "name": "python"
    }
  },
  "cells": [
    {
      "cell_type": "markdown",
      "metadata": {
        "id": "view-in-github",
        "colab_type": "text"
      },
      "source": [
        "<a href=\"https://colab.research.google.com/github/FaustinoAndres/superstore-dataviz/blob/main/superstore_dataviz.ipynb\" target=\"_parent\"><img src=\"https://colab.research.google.com/assets/colab-badge.svg\" alt=\"Open In Colab\"/></a>"
      ]
    },
    {
      "cell_type": "markdown",
      "metadata": {
        "id": "XYiRGBfZEj5Y"
      },
      "source": [
        "Esta base de datos es una recopilación sobre la información de ventas de una tienda de Estados Unidos, cuya giro es la venta de productos y materiales clasificados de la siguiente manera:\n",
        "\n",
        "1.   Furniture\n",
        "2.   Office Supplies\n",
        "3.   Technology\n",
        "\n",
        "La base de datos abarca los años del 2011 al 2014 y contiene datos pertinentes sobre los descuentos aplicados, nombre de los clientes y la ubicación geográfica de los clientes por cada transacción realizada.\n",
        "\n",
        "\n",
        "1. ¿Cuál es la categoría de productos más vendida?\n",
        "2. ¿Quién es el cliente que compra más?\n",
        "3. ¿En qué Trimestre (Q) se realizan más ventas?\n",
        "\n"
      ]
    },
    {
      "cell_type": "code",
      "metadata": {
        "id": "9RP7QKQr5fDB"
      },
      "source": [
        "import pandas as pd\n",
        "import numpy as np\n",
        "import matplotlib.pyplot as plt\n",
        "\n",
        "url = \"https://raw.githubusercontent.com/FaustinoAndres/superstore-dataviz/main/superstore.csv\"\n"
      ],
      "execution_count": null,
      "outputs": []
    },
    {
      "cell_type": "code",
      "metadata": {
        "colab": {
          "base_uri": "https://localhost:8080/"
        },
        "id": "MtU4S5zU4xFi",
        "outputId": "74a624e4-2ab8-4a17-e9af-c882a8975995"
      },
      "source": [
        "df = pd.read_csv(url, sep=';')\n",
        "print(df.head(5))"
      ],
      "execution_count": null,
      "outputs": [
        {
          "output_type": "stream",
          "text": [
            "   Row ID        Order ID  Order Date  ... Quantity Discount    Profit\n",
            "0       1  CA-2016-152156  08-11-2016  ...        2        0   41,9136\n",
            "1       2  CA-2016-152156  08-11-2016  ...        3        0   219,582\n",
            "2       3  CA-2016-138688  12-06-2016  ...        2        0    6,8714\n",
            "3       4  US-2015-108966  11-10-2015  ...        5     0,45  -383,031\n",
            "4       5  US-2015-108966  11-10-2015  ...        2      0,2    2,5164\n",
            "\n",
            "[5 rows x 21 columns]\n"
          ],
          "name": "stdout"
        }
      ]
    },
    {
      "cell_type": "code",
      "metadata": {
        "colab": {
          "base_uri": "https://localhost:8080/"
        },
        "id": "Blgjh_NZ8SZJ",
        "outputId": "8df30c72-183e-4870-c46e-4cdcc752eb49"
      },
      "source": [
        "df = df.set_index('Row ID')\n",
        "print(df.head(5))\n",
        "df.dtypes"
      ],
      "execution_count": null,
      "outputs": [
        {
          "output_type": "stream",
          "text": [
            "              Order ID  Order Date   Ship Date  ... Quantity Discount    Profit\n",
            "Row ID                                          ...                            \n",
            "1       CA-2016-152156  08-11-2016  11-11-2016  ...        2        0   41,9136\n",
            "2       CA-2016-152156  08-11-2016  11-11-2016  ...        3        0   219,582\n",
            "3       CA-2016-138688  12-06-2016  16-06-2016  ...        2        0    6,8714\n",
            "4       US-2015-108966  11-10-2015  18-10-2015  ...        5     0,45  -383,031\n",
            "5       US-2015-108966  11-10-2015  18-10-2015  ...        2      0,2    2,5164\n",
            "\n",
            "[5 rows x 20 columns]\n"
          ],
          "name": "stdout"
        },
        {
          "output_type": "execute_result",
          "data": {
            "text/plain": [
              "Order ID         object\n",
              "Order Date       object\n",
              "Ship Date        object\n",
              "Ship Mode        object\n",
              "Customer ID      object\n",
              "Customer Name    object\n",
              "Segment          object\n",
              "Country          object\n",
              "City             object\n",
              "State            object\n",
              "Postal Code       int64\n",
              "Region           object\n",
              "Product ID       object\n",
              "Category         object\n",
              "Sub-Category     object\n",
              "Product Name     object\n",
              "Sales            object\n",
              "Quantity          int64\n",
              "Discount         object\n",
              "Profit           object\n",
              "dtype: object"
            ]
          },
          "metadata": {
            "tags": []
          },
          "execution_count": 29
        }
      ]
    },
    {
      "cell_type": "markdown",
      "metadata": {
        "id": "SYL7SoXAd0NP"
      },
      "source": [
        "Primero aseguremonos de tener algún dato tipo `NaN`"
      ]
    },
    {
      "cell_type": "code",
      "metadata": {
        "colab": {
          "base_uri": "https://localhost:8080/"
        },
        "id": "aQrIdHwBdvSh",
        "outputId": "fa4f0bb2-80d5-4c16-baee-463a3818b127"
      },
      "source": [
        "df.isna().sum()"
      ],
      "execution_count": null,
      "outputs": [
        {
          "output_type": "execute_result",
          "data": {
            "text/plain": [
              "Order ID         0\n",
              "Order Date       0\n",
              "Ship Date        0\n",
              "Ship Mode        0\n",
              "Customer ID      0\n",
              "Customer Name    0\n",
              "Segment          0\n",
              "Country          0\n",
              "City             0\n",
              "State            0\n",
              "Postal Code      0\n",
              "Region           0\n",
              "Product ID       0\n",
              "Category         0\n",
              "Sub-Category     0\n",
              "Product Name     0\n",
              "Sales            0\n",
              "Quantity         0\n",
              "Discount         0\n",
              "Profit           0\n",
              "dtype: int64"
            ]
          },
          "metadata": {
            "tags": []
          },
          "execution_count": 30
        }
      ]
    },
    {
      "cell_type": "code",
      "metadata": {
        "colab": {
          "base_uri": "https://localhost:8080/"
        },
        "id": "CDpxryXC80xt",
        "outputId": "ab4b601a-fffc-40b5-a9a3-b8eaf5585d45"
      },
      "source": [
        "df = df.convert_dtypes()\n",
        "df.dtypes"
      ],
      "execution_count": null,
      "outputs": [
        {
          "output_type": "execute_result",
          "data": {
            "text/plain": [
              "Order ID         string\n",
              "Order Date       string\n",
              "Ship Date        string\n",
              "Ship Mode        string\n",
              "Customer ID      string\n",
              "Customer Name    string\n",
              "Segment          string\n",
              "Country          string\n",
              "City             string\n",
              "State            string\n",
              "Postal Code       Int64\n",
              "Region           string\n",
              "Product ID       string\n",
              "Category         string\n",
              "Sub-Category     string\n",
              "Product Name     string\n",
              "Sales            string\n",
              "Quantity          Int64\n",
              "Discount         string\n",
              "Profit           string\n",
              "dtype: object"
            ]
          },
          "metadata": {
            "tags": []
          },
          "execution_count": 31
        }
      ]
    },
    {
      "cell_type": "code",
      "metadata": {
        "id": "_6DswbUE9BCX",
        "colab": {
          "base_uri": "https://localhost:8080/"
        },
        "outputId": "91fd4452-aaf2-4d3e-db27-c24651a3dac5"
      },
      "source": [
        "#Las Columnas 'Order Date' y 'Ship Date' corresponden al tipo datetime, \n",
        "#hacemos la transformación desde String -> datetime\n",
        "\n",
        "df['Order Date'] = pd.to_datetime(\n",
        "df['Order Date'],\n",
        "dayfirst = True,\n",
        "errors = 'coerce'\n",
        ")\n",
        "\n",
        "df['Ship Date'] = pd.to_datetime(\n",
        "df['Ship Date'],\n",
        "dayfirst = True,\n",
        "errors = 'coerce'\n",
        ")\n",
        "\n",
        "#Los valores de las columnas 'Sales', 'Discount' y 'Profit' son String\n",
        "# y su parte decimal está con una coma (,).\n",
        "# remplazaremos las comas por puntos (.)\n",
        "\n",
        "df['Sales'] = df['Sales'].str.replace(',','.')\n",
        "df['Discount'] = df['Discount'].str.replace(',','.')\n",
        "df['Profit'] = df['Profit'].str.replace(',','.')\n",
        "\n",
        "#Además debemos trasformar las columnas 'Sales', 'Discount' y 'Profit' desde\n",
        "# String -> Float \n",
        "df['Sales'] = df['Sales'].astype(float)\n",
        "df['Discount'] = df['Discount'].astype(float)\n",
        "df['Profit'] = df['Profit'].astype(float)\n",
        "\n",
        "#Codigo postal, corresponde a una variable categórica, con lo cual haremos la transformación\n",
        "#int64 -> string\n",
        "df = df.astype({\"Postal Code\": str})\n",
        "\n",
        "#Comprobaremos que los cambias tengan efecto imprimiendo df.dtypes\n",
        "df.dtypes"
      ],
      "execution_count": null,
      "outputs": [
        {
          "output_type": "execute_result",
          "data": {
            "text/plain": [
              "Order ID                 string\n",
              "Order Date       datetime64[ns]\n",
              "Ship Date        datetime64[ns]\n",
              "Ship Mode                string\n",
              "Customer ID              string\n",
              "Customer Name            string\n",
              "Segment                  string\n",
              "Country                  string\n",
              "City                     string\n",
              "State                    string\n",
              "Postal Code              object\n",
              "Region                   string\n",
              "Product ID               string\n",
              "Category                 string\n",
              "Sub-Category             string\n",
              "Product Name             string\n",
              "Sales                   float64\n",
              "Quantity                  Int64\n",
              "Discount                float64\n",
              "Profit                  float64\n",
              "dtype: object"
            ]
          },
          "metadata": {
            "tags": []
          },
          "execution_count": 32
        }
      ]
    },
    {
      "cell_type": "code",
      "metadata": {
        "id": "U0VPanSc_9mo",
        "colab": {
          "base_uri": "https://localhost:8080/",
          "height": 300
        },
        "outputId": "4953d11d-db1d-466b-c96a-e3c421cb1b85"
      },
      "source": [
        "df.describe()\n"
      ],
      "execution_count": null,
      "outputs": [
        {
          "output_type": "execute_result",
          "data": {
            "text/html": [
              "<div>\n",
              "<style scoped>\n",
              "    .dataframe tbody tr th:only-of-type {\n",
              "        vertical-align: middle;\n",
              "    }\n",
              "\n",
              "    .dataframe tbody tr th {\n",
              "        vertical-align: top;\n",
              "    }\n",
              "\n",
              "    .dataframe thead th {\n",
              "        text-align: right;\n",
              "    }\n",
              "</style>\n",
              "<table border=\"1\" class=\"dataframe\">\n",
              "  <thead>\n",
              "    <tr style=\"text-align: right;\">\n",
              "      <th></th>\n",
              "      <th>Sales</th>\n",
              "      <th>Quantity</th>\n",
              "      <th>Discount</th>\n",
              "      <th>Profit</th>\n",
              "    </tr>\n",
              "  </thead>\n",
              "  <tbody>\n",
              "    <tr>\n",
              "      <th>count</th>\n",
              "      <td>9994.000000</td>\n",
              "      <td>9994.000000</td>\n",
              "      <td>9994.000000</td>\n",
              "      <td>9994.000000</td>\n",
              "    </tr>\n",
              "    <tr>\n",
              "      <th>mean</th>\n",
              "      <td>229.858001</td>\n",
              "      <td>3.789574</td>\n",
              "      <td>0.156203</td>\n",
              "      <td>28.656896</td>\n",
              "    </tr>\n",
              "    <tr>\n",
              "      <th>std</th>\n",
              "      <td>623.245101</td>\n",
              "      <td>2.225110</td>\n",
              "      <td>0.206452</td>\n",
              "      <td>234.260108</td>\n",
              "    </tr>\n",
              "    <tr>\n",
              "      <th>min</th>\n",
              "      <td>0.444000</td>\n",
              "      <td>1.000000</td>\n",
              "      <td>0.000000</td>\n",
              "      <td>-6599.978000</td>\n",
              "    </tr>\n",
              "    <tr>\n",
              "      <th>25%</th>\n",
              "      <td>17.280000</td>\n",
              "      <td>2.000000</td>\n",
              "      <td>0.000000</td>\n",
              "      <td>1.728750</td>\n",
              "    </tr>\n",
              "    <tr>\n",
              "      <th>50%</th>\n",
              "      <td>54.490000</td>\n",
              "      <td>3.000000</td>\n",
              "      <td>0.200000</td>\n",
              "      <td>8.666500</td>\n",
              "    </tr>\n",
              "    <tr>\n",
              "      <th>75%</th>\n",
              "      <td>209.940000</td>\n",
              "      <td>5.000000</td>\n",
              "      <td>0.200000</td>\n",
              "      <td>29.364000</td>\n",
              "    </tr>\n",
              "    <tr>\n",
              "      <th>max</th>\n",
              "      <td>22638.480000</td>\n",
              "      <td>14.000000</td>\n",
              "      <td>0.800000</td>\n",
              "      <td>8399.976000</td>\n",
              "    </tr>\n",
              "  </tbody>\n",
              "</table>\n",
              "</div>"
            ],
            "text/plain": [
              "              Sales     Quantity     Discount       Profit\n",
              "count   9994.000000  9994.000000  9994.000000  9994.000000\n",
              "mean     229.858001     3.789574     0.156203    28.656896\n",
              "std      623.245101     2.225110     0.206452   234.260108\n",
              "min        0.444000     1.000000     0.000000 -6599.978000\n",
              "25%       17.280000     2.000000     0.000000     1.728750\n",
              "50%       54.490000     3.000000     0.200000     8.666500\n",
              "75%      209.940000     5.000000     0.200000    29.364000\n",
              "max    22638.480000    14.000000     0.800000  8399.976000"
            ]
          },
          "metadata": {
            "tags": []
          },
          "execution_count": 33
        }
      ]
    },
    {
      "cell_type": "markdown",
      "metadata": {
        "id": "vXKF8TiEfe2R"
      },
      "source": [
        "Las ventas están separadas por categorías, las representamos en un diagrama de barras"
      ]
    },
    {
      "cell_type": "code",
      "metadata": {
        "colab": {
          "base_uri": "https://localhost:8080/",
          "height": 435
        },
        "id": "blQdX_by7wPy",
        "outputId": "454d57f9-ca1c-48c1-cfb2-0b7a6cca7416"
      },
      "source": [
        "category_sales = df.groupby(['Category'])['Sales'].sum().sort_values(ascending=False)\n",
        "fig, ax = plt.subplots(figsize=(8,6))\n",
        "ax.set_xlabel('Category', fontsize=14)\n",
        "ax.set_ylabel('Sales', fontsize=14)\n",
        "ax.bar(category_sales.index, category_sales.values, color=('#5872A6', '#A9C2F5', '#F5ED9D'))\n",
        "fig.suptitle('Sales per categories', fontsize=16)\n",
        "plt.show()"
      ],
      "execution_count": null,
      "outputs": [
        {
          "output_type": "display_data",
          "data": {
            "image/png": "[encoded data removed]",
            "text/plain": [
              "<Figure size 576x432 with 1 Axes>"
            ]
          },
          "metadata": {
            "tags": [],
            "needs_background": "light"
          }
        }
      ]
    },
    {
      "cell_type": "markdown",
      "metadata": {
        "id": "z0Eiq4m3zwIN"
      },
      "source": [
        "¿Quién es nuestro mejor cliente?"
      ]
    },
    {
      "cell_type": "code",
      "metadata": {
        "id": "WoT6doagMiMk",
        "colab": {
          "base_uri": "https://localhost:8080/"
        },
        "outputId": "56f13fad-305f-468f-878d-3a8012869631"
      },
      "source": [
        "best_customers = df.groupby(['Customer Name'])['Sales'].sum().sort_values(ascending=False).head(10)\n",
        "best_customers"
      ],
      "execution_count": null,
      "outputs": [
        {
          "output_type": "execute_result",
          "data": {
            "text/plain": [
              "Customer Name\n",
              "Sean Miller           25043.050\n",
              "Tamara Chand          19052.218\n",
              "Raymond Buch          15117.339\n",
              "Tom Ashbrook          14595.620\n",
              "Adrian Barton         14473.571\n",
              "Ken Lonsdale          14175.229\n",
              "Sanjit Chand          14142.334\n",
              "Hunter Lopez          12873.298\n",
              "Sanjit Engle          12209.438\n",
              "Christopher Conant    12129.072\n",
              "Name: Sales, dtype: float64"
            ]
          },
          "metadata": {
            "tags": []
          },
          "execution_count": 38
        }
      ]
    },
    {
      "cell_type": "markdown",
      "metadata": {
        "id": "cJch0xAm1B3i"
      },
      "source": [
        ""
      ]
    },
    {
      "cell_type": "code",
      "metadata": {
        "colab": {
          "base_uri": "https://localhost:8080/",
          "height": 686
        },
        "id": "HYIFR42A1Caz",
        "outputId": "de8f91cf-0e0e-4106-ebaa-6a3f3e317aff"
      },
      "source": [
        "fig, ax = plt.subplots(figsize=(20,10))\n",
        "ax.barh(best_customers.index, best_customers.values, color=('#FCE2C2', '#CFFCD8', '#FCC7B5', '#9DDFFC', '#FCA9B5'))\n",
        "fig.suptitle('Best customers', fontsize=18)\n",
        "ax.grid(axis='x')\n",
        "ax.set_xlabel('Sales per Customer', fontsize=18)\n",
        "ax.set_ylabel('Customers', fontsize=18)\n",
        "plt.show()"
      ],
      "execution_count": null,
      "outputs": [
        {
          "output_type": "display_data",
          "data": {
            "image/png": "[encoded data removed]",
            "text/plain": [
              "<Figure size 1440x720 with 1 Axes>"
            ]
          },
          "metadata": {
            "tags": [],
            "needs_background": "light"
          }
        }
      ]
    },
    {
      "cell_type": "markdown",
      "metadata": {
        "id": "SdlgMhOD-gVo"
      },
      "source": [
        "¿Cuál es el trimestre con más ventas?\n"
      ]
    },
    {
      "cell_type": "code",
      "metadata": {
        "colab": {
          "base_uri": "https://localhost:8080/",
          "height": 237
        },
        "id": "bg6ntjsr--4P",
        "outputId": "ed448e02-e230-43ac-89bf-d57a425c273d"
      },
      "source": [
        "sale_by_date = df.groupby(['Order Date']).sum()\n",
        "sale_by_date['Quarter'] = sale_by_date.index.quarter\n",
        "sale_by_date['Year'] = sale_by_date.index.year\n",
        "sale_by_date.head()"
      ],
      "execution_count": null,
      "outputs": [
        {
          "output_type": "execute_result",
          "data": {
            "text/html": [
              "<div>\n",
              "<style scoped>\n",
              "    .dataframe tbody tr th:only-of-type {\n",
              "        vertical-align: middle;\n",
              "    }\n",
              "\n",
              "    .dataframe tbody tr th {\n",
              "        vertical-align: top;\n",
              "    }\n",
              "\n",
              "    .dataframe thead th {\n",
              "        text-align: right;\n",
              "    }\n",
              "</style>\n",
              "<table border=\"1\" class=\"dataframe\">\n",
              "  <thead>\n",
              "    <tr style=\"text-align: right;\">\n",
              "      <th></th>\n",
              "      <th>Sales</th>\n",
              "      <th>Quantity</th>\n",
              "      <th>Discount</th>\n",
              "      <th>Profit</th>\n",
              "      <th>Quarter</th>\n",
              "      <th>Year</th>\n",
              "    </tr>\n",
              "    <tr>\n",
              "      <th>Order Date</th>\n",
              "      <th></th>\n",
              "      <th></th>\n",
              "      <th></th>\n",
              "      <th></th>\n",
              "      <th></th>\n",
              "      <th></th>\n",
              "    </tr>\n",
              "  </thead>\n",
              "  <tbody>\n",
              "    <tr>\n",
              "      <th>2014-01-03</th>\n",
              "      <td>16.448</td>\n",
              "      <td>2</td>\n",
              "      <td>0.2</td>\n",
              "      <td>5.5512</td>\n",
              "      <td>1</td>\n",
              "      <td>2014</td>\n",
              "    </tr>\n",
              "    <tr>\n",
              "      <th>2014-01-04</th>\n",
              "      <td>288.060</td>\n",
              "      <td>8</td>\n",
              "      <td>1.2</td>\n",
              "      <td>-65.9901</td>\n",
              "      <td>1</td>\n",
              "      <td>2014</td>\n",
              "    </tr>\n",
              "    <tr>\n",
              "      <th>2014-01-05</th>\n",
              "      <td>19.536</td>\n",
              "      <td>3</td>\n",
              "      <td>0.2</td>\n",
              "      <td>4.8840</td>\n",
              "      <td>1</td>\n",
              "      <td>2014</td>\n",
              "    </tr>\n",
              "    <tr>\n",
              "      <th>2014-01-06</th>\n",
              "      <td>4407.100</td>\n",
              "      <td>30</td>\n",
              "      <td>0.0</td>\n",
              "      <td>1358.0524</td>\n",
              "      <td>1</td>\n",
              "      <td>2014</td>\n",
              "    </tr>\n",
              "    <tr>\n",
              "      <th>2014-01-07</th>\n",
              "      <td>87.158</td>\n",
              "      <td>10</td>\n",
              "      <td>1.4</td>\n",
              "      <td>-71.9621</td>\n",
              "      <td>1</td>\n",
              "      <td>2014</td>\n",
              "    </tr>\n",
              "  </tbody>\n",
              "</table>\n",
              "</div>"
            ],
            "text/plain": [
              "               Sales  Quantity  Discount     Profit  Quarter  Year\n",
              "Order Date                                                        \n",
              "2014-01-03    16.448         2       0.2     5.5512        1  2014\n",
              "2014-01-04   288.060         8       1.2   -65.9901        1  2014\n",
              "2014-01-05    19.536         3       0.2     4.8840        1  2014\n",
              "2014-01-06  4407.100        30       0.0  1358.0524        1  2014\n",
              "2014-01-07    87.158        10       1.4   -71.9621        1  2014"
            ]
          },
          "metadata": {
            "tags": []
          },
          "execution_count": 71
        }
      ]
    },
    {
      "cell_type": "code",
      "metadata": {
        "colab": {
          "base_uri": "https://localhost:8080/",
          "height": 206
        },
        "id": "SZNHOaQ_Pyyb",
        "outputId": "cd5d6c81-18e9-4806-a969-d73083e08b56"
      },
      "source": [
        "sale_by_date.groupby(['Year']).sum()"
      ],
      "execution_count": null,
      "outputs": [
        {
          "output_type": "execute_result",
          "data": {
            "text/html": [
              "<div>\n",
              "<style scoped>\n",
              "    .dataframe tbody tr th:only-of-type {\n",
              "        vertical-align: middle;\n",
              "    }\n",
              "\n",
              "    .dataframe tbody tr th {\n",
              "        vertical-align: top;\n",
              "    }\n",
              "\n",
              "    .dataframe thead th {\n",
              "        text-align: right;\n",
              "    }\n",
              "</style>\n",
              "<table border=\"1\" class=\"dataframe\">\n",
              "  <thead>\n",
              "    <tr style=\"text-align: right;\">\n",
              "      <th></th>\n",
              "      <th>Sales</th>\n",
              "      <th>Quantity</th>\n",
              "      <th>Discount</th>\n",
              "      <th>Profit</th>\n",
              "      <th>Quarter</th>\n",
              "    </tr>\n",
              "    <tr>\n",
              "      <th>Year</th>\n",
              "      <th></th>\n",
              "      <th></th>\n",
              "      <th></th>\n",
              "      <th></th>\n",
              "      <th></th>\n",
              "    </tr>\n",
              "  </thead>\n",
              "  <tbody>\n",
              "    <tr>\n",
              "      <th>2014</th>\n",
              "      <td>484247.4981</td>\n",
              "      <td>7581</td>\n",
              "      <td>315.46</td>\n",
              "      <td>49543.9741</td>\n",
              "      <td>792</td>\n",
              "    </tr>\n",
              "    <tr>\n",
              "      <th>2015</th>\n",
              "      <td>470532.5090</td>\n",
              "      <td>7979</td>\n",
              "      <td>327.09</td>\n",
              "      <td>61618.6037</td>\n",
              "      <td>758</td>\n",
              "    </tr>\n",
              "    <tr>\n",
              "      <th>2016</th>\n",
              "      <td>609205.5980</td>\n",
              "      <td>9837</td>\n",
              "      <td>400.32</td>\n",
              "      <td>81795.1743</td>\n",
              "      <td>816</td>\n",
              "    </tr>\n",
              "    <tr>\n",
              "      <th>2017</th>\n",
              "      <td>733215.2552</td>\n",
              "      <td>12476</td>\n",
              "      <td>518.22</td>\n",
              "      <td>93439.2696</td>\n",
              "      <td>831</td>\n",
              "    </tr>\n",
              "  </tbody>\n",
              "</table>\n",
              "</div>"
            ],
            "text/plain": [
              "            Sales  Quantity  Discount      Profit  Quarter\n",
              "Year                                                      \n",
              "2014  484247.4981      7581    315.46  49543.9741      792\n",
              "2015  470532.5090      7979    327.09  61618.6037      758\n",
              "2016  609205.5980      9837    400.32  81795.1743      816\n",
              "2017  733215.2552     12476    518.22  93439.2696      831"
            ]
          },
          "metadata": {
            "tags": []
          },
          "execution_count": 69
        }
      ]
    },
    {
      "cell_type": "code",
      "metadata": {
        "colab": {
          "base_uri": "https://localhost:8080/",
          "height": 206
        },
        "id": "v4BSxMuPGzNE",
        "outputId": "28d99634-a72a-4249-a184-caf70e54e574"
      },
      "source": [
        "pivot_df = pd.pivot_table(\n",
        "    sale_by_date,\n",
        "    index = 'Year',\n",
        "    values = 'Quantity',\n",
        "    aggfunc = np.sum,\n",
        "    columns = 'Quarter'\n",
        ")\n",
        "pivot_df.head()"
      ],
      "execution_count": null,
      "outputs": [
        {
          "output_type": "execute_result",
          "data": {
            "text/html": [
              "<div>\n",
              "<style scoped>\n",
              "    .dataframe tbody tr th:only-of-type {\n",
              "        vertical-align: middle;\n",
              "    }\n",
              "\n",
              "    .dataframe tbody tr th {\n",
              "        vertical-align: top;\n",
              "    }\n",
              "\n",
              "    .dataframe thead th {\n",
              "        text-align: right;\n",
              "    }\n",
              "</style>\n",
              "<table border=\"1\" class=\"dataframe\">\n",
              "  <thead>\n",
              "    <tr style=\"text-align: right;\">\n",
              "      <th>Quarter</th>\n",
              "      <th>1</th>\n",
              "      <th>2</th>\n",
              "      <th>3</th>\n",
              "      <th>4</th>\n",
              "    </tr>\n",
              "    <tr>\n",
              "      <th>Year</th>\n",
              "      <th></th>\n",
              "      <th></th>\n",
              "      <th></th>\n",
              "      <th></th>\n",
              "    </tr>\n",
              "  </thead>\n",
              "  <tbody>\n",
              "    <tr>\n",
              "      <th>2014</th>\n",
              "      <td>1028</td>\n",
              "      <td>1523</td>\n",
              "      <td>2159</td>\n",
              "      <td>2871</td>\n",
              "    </tr>\n",
              "    <tr>\n",
              "      <th>2015</th>\n",
              "      <td>990</td>\n",
              "      <td>1604</td>\n",
              "      <td>2241</td>\n",
              "      <td>3144</td>\n",
              "    </tr>\n",
              "    <tr>\n",
              "      <th>2016</th>\n",
              "      <td>1243</td>\n",
              "      <td>2240</td>\n",
              "      <td>2767</td>\n",
              "      <td>3587</td>\n",
              "    </tr>\n",
              "    <tr>\n",
              "      <th>2017</th>\n",
              "      <td>1845</td>\n",
              "      <td>2551</td>\n",
              "      <td>3384</td>\n",
              "      <td>4696</td>\n",
              "    </tr>\n",
              "  </tbody>\n",
              "</table>\n",
              "</div>"
            ],
            "text/plain": [
              "Quarter     1     2     3     4\n",
              "Year                           \n",
              "2014     1028  1523  2159  2871\n",
              "2015      990  1604  2241  3144\n",
              "2016     1243  2240  2767  3587\n",
              "2017     1845  2551  3384  4696"
            ]
          },
          "metadata": {
            "tags": []
          },
          "execution_count": 73
        }
      ]
    },
    {
      "cell_type": "code",
      "metadata": {
        "colab": {
          "base_uri": "https://localhost:8080/",
          "height": 634
        },
        "id": "ax6mj1CSHIQ_",
        "outputId": "9d0f40eb-7886-4899-9286-a38fc7601ee7"
      },
      "source": [
        "ax = pivot_df.plot.bar(rot=0, figsize=(10,10), color=('#FCE2C2', '#CFFCD8', '#FCC7B5', '#9DDFFC'))\n",
        "plt.xlabel('Years', fontsize=18)\n",
        "plt.ylabel('Total sales', fontsize=18)\n",
        "plt.title('Total Sales', fontsize=18)\n",
        "plt.legend(labels=['Q1', 'Q2', 'Q3', 'Q4'], loc='upper left', fontsize=18)\n",
        "plt.xticks(rotation=0)\n",
        "plt.grid(axis='y')\n",
        "plt.show()"
      ],
      "execution_count": null,
      "outputs": [
        {
          "output_type": "display_data",
          "data": {
            "image/png": "[encoded data removed]",
            "text/plain": [
              "<Figure size 720x720 with 1 Axes>"
            ]
          },
          "metadata": {
            "tags": [],
            "needs_background": "light"
          }
        }
      ]
    },
    {
      "cell_type": "markdown",
      "metadata": {
        "id": "surmBLutXiRx"
      },
      "source": [
        "Es momentos de hacer nuestra hipótesis, la cual será \"a mayores ventas, mayor será la utilidad\"\n",
        "\n",
        "Para ello utilizaremos un scatter plot, y esperaremos que existe una relación lineal positiva entre las ventas y la utilidad."
      ]
    },
    {
      "cell_type": "code",
      "metadata": {
        "colab": {
          "base_uri": "https://localhost:8080/",
          "height": 606
        },
        "id": "TO0QB8FSYI_R",
        "outputId": "20340a14-74f6-43fe-da19-959be37d9fae"
      },
      "source": [
        "import matplotlib.cm as cm\n",
        "\n",
        "sales = df.iloc[:, -4].values\n",
        "profit = df.iloc[:, -1].values\n",
        "\n",
        "hypothesis_x = np.linspace()\n",
        "\n",
        "fig, ax = plt.subplots(figsize=(8,10))\n",
        "plt.scatter(, , c=df.iloc[:, -1].values, cmap='RdYlGn')\n",
        "plt.plot(np.linspace())\n",
        "plt.grid()\n",
        "plt.xlabel('Sales')\n",
        "plt.ylabel('Profit')\n",
        "plt.show()"
      ],
      "execution_count": null,
      "outputs": [
        {
          "output_type": "display_data",
          "data": {
            "image/png": "[encoded data removed]",
            "text/plain": [
              "<Figure size 576x720 with 1 Axes>"
            ]
          },
          "metadata": {
            "tags": [],
            "needs_background": "light"
          }
        }
      ]
    },
    {
      "cell_type": "code",
      "metadata": {
        "id": "mizeRUfxdmbH"
      },
      "source": [
        ""
      ],
      "execution_count": null,
      "outputs": []
    }
  ]
}